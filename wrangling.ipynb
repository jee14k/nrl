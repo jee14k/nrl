{
 "cells": [
  {
   "cell_type": "code",
   "execution_count": 1,
   "id": "8f60dc30",
   "metadata": {},
   "outputs": [
    {
     "name": "stdout",
     "output_type": "stream",
     "text": [
      "Cleaned file saved to: team_stats/nrl_2025_team_stats_cleaned.csv\n"
     ]
    }
   ],
   "source": [
    "import pandas as pd\n",
    "import os\n",
    "\n",
    "# File path\n",
    "input_path = \"team_stats/nrl_2025_team_stats.csv\"\n",
    "output_path = \"team_stats/nrl_2025_team_stats_cleaned.csv\"\n",
    "\n",
    "# Load CSV\n",
    "df = pd.read_csv(input_path)\n",
    "\n",
    "# Fix double underscores in column names\n",
    "df.columns = [col.replace(\"__\", \"_\") for col in df.columns]\n",
    "\n",
    "# (Optional) Clean team names by removing ' Club Profile' suffix\n",
    "if \"team\" in df.columns:\n",
    "    df[\"team\"] = df[\"team\"].str.replace(r\"\\s*Club Profile$\", \"\", regex=True)\n",
    "\n",
    "# Save cleaned CSV\n",
    "df.to_csv(output_path, index=False)\n",
    "\n",
    "print(f\"Cleaned file saved to: {output_path}\")"
   ]
  },
  {
   "cell_type": "code",
   "execution_count": null,
   "id": "4ed69b77",
   "metadata": {},
   "outputs": [
    {
     "name": "stdout",
     "output_type": "stream",
     "text": [
      "Processing nrl_2025_all_receipts.csv...\n",
      "Saved cleaned file to nrl_stats_2025\\nrl_2025_all_receipts.csv\n",
      "Processing nrl_2025_all_runs.csv...\n",
      "Saved cleaned file to nrl_stats_2025\\nrl_2025_all_runs.csv\n",
      "Processing nrl_2025_all_run_metres.csv...\n",
      "Saved cleaned file to nrl_stats_2025\\nrl_2025_all_run_metres.csv\n",
      "Processing nrl_2025_charge_downs.csv...\n",
      "Saved cleaned file to nrl_stats_2025\\nrl_2025_charge_downs.csv\n",
      "Processing nrl_2025_conversion_%.csv...\n",
      "Saved cleaned file to nrl_stats_2025\\nrl_2025_conversion_%.csv\n",
      "Processing nrl_2025_decoy_runs.csv...\n",
      "Saved cleaned file to nrl_stats_2025\\nrl_2025_decoy_runs.csv\n",
      "Processing nrl_2025_dummy_half_runs.csv...\n",
      "Saved cleaned file to nrl_stats_2025\\nrl_2025_dummy_half_runs.csv\n",
      "Processing nrl_2025_errors.csv...\n",
      "Saved cleaned file to nrl_stats_2025\\nrl_2025_errors.csv\n",
      "Processing nrl_2025_goals.csv...\n",
      "Saved cleaned file to nrl_stats_2025\\nrl_2025_goals.csv\n",
      "Processing nrl_2025_handling_errors.csv...\n",
      "Saved cleaned file to nrl_stats_2025\\nrl_2025_handling_errors.csv\n",
      "Processing nrl_2025_ineffective_tackles.csv...\n",
      "Saved cleaned file to nrl_stats_2025\\nrl_2025_ineffective_tackles.csv\n",
      "Processing nrl_2025_intercepts.csv...\n",
      "Saved cleaned file to nrl_stats_2025\\nrl_2025_intercepts.csv\n",
      "Processing nrl_2025_kick_return_metres.csv...\n",
      "Saved cleaned file to nrl_stats_2025\\nrl_2025_kick_return_metres.csv\n",
      "Processing nrl_2025_linebreaks.csv...\n",
      "Saved cleaned file to nrl_stats_2025\\nrl_2025_linebreaks.csv\n",
      "Processing nrl_2025_line_break_assists.csv...\n",
      "Saved cleaned file to nrl_stats_2025\\nrl_2025_line_break_assists.csv\n",
      "Processing nrl_2025_line_engaged.csv...\n",
      "Saved cleaned file to nrl_stats_2025\\nrl_2025_line_engaged.csv\n",
      "Processing nrl_2025_missed_tackles.csv...\n",
      "Saved cleaned file to nrl_stats_2025\\nrl_2025_missed_tackles.csv\n",
      "Processing nrl_2025_offloads.csv...\n",
      "Saved cleaned file to nrl_stats_2025\\nrl_2025_offloads.csv\n",
      "Processing nrl_2025_penalties_conceded.csv...\n",
      "Saved cleaned file to nrl_stats_2025\\nrl_2025_penalties_conceded.csv\n",
      "Processing nrl_2025_points.csv...\n",
      "Saved cleaned file to nrl_stats_2025\\nrl_2025_points.csv\n",
      "Processing nrl_2025_post_contact_metres.csv...\n",
      "Saved cleaned file to nrl_stats_2025\\nrl_2025_post_contact_metres.csv\n",
      "Processing nrl_2025_short_dropouts.csv...\n",
      "Saved cleaned file to nrl_stats_2025\\nrl_2025_short_dropouts.csv\n",
      "Processing nrl_2025_supports.csv...\n",
      "Saved cleaned file to nrl_stats_2025\\nrl_2025_supports.csv\n",
      "Processing nrl_2025_tackles.csv...\n",
      "Saved cleaned file to nrl_stats_2025\\nrl_2025_tackles.csv\n",
      "Processing nrl_2025_tackle_breaks.csv...\n",
      "Saved cleaned file to nrl_stats_2025\\nrl_2025_tackle_breaks.csv\n",
      "Processing nrl_2025_total_kicks.csv...\n",
      "Saved cleaned file to nrl_stats_2025\\nrl_2025_total_kicks.csv\n",
      "Processing nrl_2025_total_kick_metres.csv...\n",
      "Saved cleaned file to nrl_stats_2025\\nrl_2025_total_kick_metres.csv\n",
      "Processing nrl_2025_tries.csv...\n",
      "Saved cleaned file to nrl_stats_2025\\nrl_2025_tries.csv\n",
      "Processing nrl_2025_try_assists.csv...\n",
      "Saved cleaned file to nrl_stats_2025\\nrl_2025_try_assists.csv\n"
     ]
    }
   ],
   "source": [
    "import os\n",
    "import pandas as pd\n",
    "\n",
    "input_folder = \"nrl_stats_2025\"\n",
    "\n",
    "for filename in os.listdir(input_folder):\n",
    "    if filename.endswith(\".csv\"):\n",
    "        file_path = os.path.join(input_folder, filename)\n",
    "        print(f\"Processing {filename}...\")\n",
    "\n",
    "        # Read CSV with no header inference for empty cols\n",
    "        df = pd.read_csv(file_path)\n",
    "\n",
    "        # Drop the first two columns (index 0 and 1)\n",
    "        df_clean = df.iloc[:, 2:]\n",
    "\n",
    "        # Save cleaned CSV\n",
    "        save_path = file_path\n",
    "        df_clean.to_csv(save_path, index=False)\n",
    "\n",
    "        print(f\"Saved cleaned file to {save_path}\")\n"
   ]
  },
  {
   "cell_type": "code",
   "execution_count": null,
   "id": "0e0d4aeb",
   "metadata": {},
   "outputs": [],
   "source": []
  }
 ],
 "metadata": {
  "kernelspec": {
   "display_name": "base",
   "language": "python",
   "name": "python3"
  },
  "language_info": {
   "codemirror_mode": {
    "name": "ipython",
    "version": 3
   },
   "file_extension": ".py",
   "mimetype": "text/x-python",
   "name": "python",
   "nbconvert_exporter": "python",
   "pygments_lexer": "ipython3",
   "version": "3.12.4"
  }
 },
 "nbformat": 4,
 "nbformat_minor": 5
}
